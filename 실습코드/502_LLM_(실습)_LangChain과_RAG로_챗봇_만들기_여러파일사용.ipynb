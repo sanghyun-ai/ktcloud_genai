{
  "cells": [
    {
      "cell_type": "markdown",
      "metadata": {
        "id": "view-in-github",
        "colab_type": "text"
      },
      "source": [
        "<a href=\"https://colab.research.google.com/github/sanghyun-ai/ktcloud_genai/blob/main/%EC%8B%A4%EC%8A%B5%EC%BD%94%EB%93%9C/502_LLM_(%EC%8B%A4%EC%8A%B5)_LangChain%EA%B3%BC_RAG%EB%A1%9C_%EC%B1%97%EB%B4%87_%EB%A7%8C%EB%93%A4%EA%B8%B0_%EC%97%AC%EB%9F%AC%ED%8C%8C%EC%9D%BC%EC%82%AC%EC%9A%A9.ipynb\" target=\"_parent\"><img src=\"https://colab.research.google.com/assets/colab-badge.svg\" alt=\"Open In Colab\"/></a>"
      ]
    },
    {
      "cell_type": "markdown",
      "source": [
        "# **LangChain과 RAG로 챗봇 만들기**\n",
        "\n",
        "\n"
      ],
      "metadata": {
        "id": "FyM74B4QApqt"
      }
    },
    {
      "cell_type": "markdown",
      "source": [
        "---\n",
        "\n",
        "\n",
        "- 💡 **NOTE**\n",
        "    - 이 노트북의 코드를 실행하려면 GPU를 사용하는 것이 좋습니다. 구글 코랩에서는 **런타임 > 런타임 유형 변경 > 하드웨어 가속기 > T4 GPU**를 선택하세요.\n",
        "\n",
        "\n",
        "---"
      ],
      "metadata": {
        "id": "3zyQZRU0gdpl"
      }
    },
    {
      "cell_type": "markdown",
      "source": [
        "## **실습 환경**\n",
        "\n",
        "- **구글 코랩 + OpenAI API Key**\n"
      ],
      "metadata": {
        "id": "JqytTMjwstJC"
      }
    },
    {
      "cell_type": "code",
      "source": [],
      "metadata": {
        "id": "URE9M7lQ_Jmp"
      },
      "execution_count": null,
      "outputs": []
    },
    {
      "cell_type": "code",
      "source": [
        "# 설치된 특정 라이브러리 버전 확인\n",
        "%pip list | grep -E 'langchain|tiktoken|openai|pypdf|chromadb'"
      ],
      "metadata": {
        "colab": {
          "base_uri": "https://localhost:8080/"
        },
        "id": "RKIM9Iraf0wG",
        "outputId": "03de828c-91a6-4834-8b20-9aa9125272a1"
      },
      "execution_count": 1,
      "outputs": [
        {
          "output_type": "stream",
          "name": "stdout",
          "text": [
            "langchain                                0.3.27\n",
            "langchain-core                           0.3.79\n",
            "langchain-text-splitters                 0.3.11\n",
            "openai                                   1.109.1\n",
            "tiktoken                                 0.12.0\n"
          ]
        }
      ]
    },
    {
      "cell_type": "code",
      "execution_count": 2,
      "metadata": {
        "colab": {
          "base_uri": "https://localhost:8080/"
        },
        "id": "RRYSu48huSUW",
        "outputId": "3dba6c7d-a61b-467b-90bc-81dfcf28efc1"
      },
      "outputs": [
        {
          "output_type": "stream",
          "name": "stdout",
          "text": [
            "\u001b[?25l     \u001b[90m━━━━━━━━━━━━━━━━━━━━━━━━━━━━━━━━━━━━━━━━\u001b[0m \u001b[32m0.0/67.3 kB\u001b[0m \u001b[31m?\u001b[0m eta \u001b[36m-:--:--\u001b[0m\r\u001b[2K     \u001b[90m━━━━━━━━━━━━━━━━━━━━━━━━━━━━━━━━━━━━━━━━\u001b[0m \u001b[32m67.3/67.3 kB\u001b[0m \u001b[31m4.1 MB/s\u001b[0m eta \u001b[36m0:00:00\u001b[0m\n",
            "\u001b[?25h  Installing build dependencies ... \u001b[?25l\u001b[?25hdone\n",
            "  Getting requirements to build wheel ... \u001b[?25l\u001b[?25hdone\n",
            "  Preparing metadata (pyproject.toml) ... \u001b[?25l\u001b[?25hdone\n",
            "\u001b[2K   \u001b[90m━━━━━━━━━━━━━━━━━━━━━━━━━━━━━━━━━━━━━━━━\u001b[0m \u001b[32m76.0/76.0 kB\u001b[0m \u001b[31m9.1 MB/s\u001b[0m eta \u001b[36m0:00:00\u001b[0m\n",
            "\u001b[2K   \u001b[90m━━━━━━━━━━━━━━━━━━━━━━━━━━━━━━━━━━━━━━━━\u001b[0m \u001b[32m20.7/20.7 MB\u001b[0m \u001b[31m51.2 MB/s\u001b[0m eta \u001b[36m0:00:00\u001b[0m\n",
            "\u001b[2K   \u001b[90m━━━━━━━━━━━━━━━━━━━━━━━━━━━━━━━━━━━━━━━━\u001b[0m \u001b[32m2.5/2.5 MB\u001b[0m \u001b[31m69.4 MB/s\u001b[0m eta \u001b[36m0:00:00\u001b[0m\n",
            "\u001b[2K   \u001b[90m━━━━━━━━━━━━━━━━━━━━━━━━━━━━━━━━━━━━━━━━\u001b[0m \u001b[32m278.2/278.2 kB\u001b[0m \u001b[31m27.2 MB/s\u001b[0m eta \u001b[36m0:00:00\u001b[0m\n",
            "\u001b[2K   \u001b[90m━━━━━━━━━━━━━━━━━━━━━━━━━━━━━━━━━━━━━━━━\u001b[0m \u001b[32m2.0/2.0 MB\u001b[0m \u001b[31m104.2 MB/s\u001b[0m eta \u001b[36m0:00:00\u001b[0m\n",
            "\u001b[2K   \u001b[90m━━━━━━━━━━━━━━━━━━━━━━━━━━━━━━━━━━━━━━━━\u001b[0m \u001b[32m103.3/103.3 kB\u001b[0m \u001b[31m12.2 MB/s\u001b[0m eta \u001b[36m0:00:00\u001b[0m\n",
            "\u001b[2K   \u001b[90m━━━━━━━━━━━━━━━━━━━━━━━━━━━━━━━━━━━━━━━━\u001b[0m \u001b[32m17.4/17.4 MB\u001b[0m \u001b[31m94.7 MB/s\u001b[0m eta \u001b[36m0:00:00\u001b[0m\n",
            "\u001b[2K   \u001b[90m━━━━━━━━━━━━━━━━━━━━━━━━━━━━━━━━━━━━━━━━\u001b[0m \u001b[32m72.5/72.5 kB\u001b[0m \u001b[31m7.9 MB/s\u001b[0m eta \u001b[36m0:00:00\u001b[0m\n",
            "\u001b[2K   \u001b[90m━━━━━━━━━━━━━━━━━━━━━━━━━━━━━━━━━━━━━━━━\u001b[0m \u001b[32m132.3/132.3 kB\u001b[0m \u001b[31m15.4 MB/s\u001b[0m eta \u001b[36m0:00:00\u001b[0m\n",
            "\u001b[2K   \u001b[90m━━━━━━━━━━━━━━━━━━━━━━━━━━━━━━━━━━━━━━━━\u001b[0m \u001b[32m65.9/65.9 kB\u001b[0m \u001b[31m7.6 MB/s\u001b[0m eta \u001b[36m0:00:00\u001b[0m\n",
            "\u001b[2K   \u001b[90m━━━━━━━━━━━━━━━━━━━━━━━━━━━━━━━━━━━━━━━━\u001b[0m \u001b[32m208.0/208.0 kB\u001b[0m \u001b[31m24.9 MB/s\u001b[0m eta \u001b[36m0:00:00\u001b[0m\n",
            "\u001b[2K   \u001b[90m━━━━━━━━━━━━━━━━━━━━━━━━━━━━━━━━━━━━━━━━\u001b[0m \u001b[32m105.4/105.4 kB\u001b[0m \u001b[31m12.8 MB/s\u001b[0m eta \u001b[36m0:00:00\u001b[0m\n",
            "\u001b[2K   \u001b[90m━━━━━━━━━━━━━━━━━━━━━━━━━━━━━━━━━━━━━━━━\u001b[0m \u001b[32m71.6/71.6 kB\u001b[0m \u001b[31m8.8 MB/s\u001b[0m eta \u001b[36m0:00:00\u001b[0m\n",
            "\u001b[2K   \u001b[90m━━━━━━━━━━━━━━━━━━━━━━━━━━━━━━━━━━━━━━━━\u001b[0m \u001b[32m64.7/64.7 kB\u001b[0m \u001b[31m7.4 MB/s\u001b[0m eta \u001b[36m0:00:00\u001b[0m\n",
            "\u001b[2K   \u001b[90m━━━━━━━━━━━━━━━━━━━━━━━━━━━━━━━━━━━━━━━━\u001b[0m \u001b[32m517.7/517.7 kB\u001b[0m \u001b[31m31.2 MB/s\u001b[0m eta \u001b[36m0:00:00\u001b[0m\n",
            "\u001b[2K   \u001b[90m━━━━━━━━━━━━━━━━━━━━━━━━━━━━━━━━━━━━━━━━\u001b[0m \u001b[32m50.9/50.9 kB\u001b[0m \u001b[31m6.0 MB/s\u001b[0m eta \u001b[36m0:00:00\u001b[0m\n",
            "\u001b[2K   \u001b[90m━━━━━━━━━━━━━━━━━━━━━━━━━━━━━━━━━━━━━━━━\u001b[0m \u001b[32m128.4/128.4 kB\u001b[0m \u001b[31m15.3 MB/s\u001b[0m eta \u001b[36m0:00:00\u001b[0m\n",
            "\u001b[2K   \u001b[90m━━━━━━━━━━━━━━━━━━━━━━━━━━━━━━━━━━━━━━━━\u001b[0m \u001b[32m4.4/4.4 MB\u001b[0m \u001b[31m39.7 MB/s\u001b[0m eta \u001b[36m0:00:00\u001b[0m\n",
            "\u001b[2K   \u001b[90m━━━━━━━━━━━━━━━━━━━━━━━━━━━━━━━━━━━━━━━━\u001b[0m \u001b[32m456.8/456.8 kB\u001b[0m \u001b[31m36.7 MB/s\u001b[0m eta \u001b[36m0:00:00\u001b[0m\n",
            "\u001b[2K   \u001b[90m━━━━━━━━━━━━━━━━━━━━━━━━━━━━━━━━━━━━━━━━\u001b[0m \u001b[32m46.0/46.0 kB\u001b[0m \u001b[31m4.3 MB/s\u001b[0m eta \u001b[36m0:00:00\u001b[0m\n",
            "\u001b[2K   \u001b[90m━━━━━━━━━━━━━━━━━━━━━━━━━━━━━━━━━━━━━━━━\u001b[0m \u001b[32m86.8/86.8 kB\u001b[0m \u001b[31m10.1 MB/s\u001b[0m eta \u001b[36m0:00:00\u001b[0m\n",
            "\u001b[?25h  Building wheel for pypika (pyproject.toml) ... \u001b[?25l\u001b[?25hdone\n",
            "\u001b[31mERROR: pip's dependency resolver does not currently take into account all the packages that are installed. This behaviour is the source of the following dependency conflicts.\n",
            "google-colab 1.0.0 requires requests==2.32.4, but you have requests 2.32.5 which is incompatible.\n",
            "opentelemetry-exporter-otlp-proto-http 1.37.0 requires opentelemetry-exporter-otlp-proto-common==1.37.0, but you have opentelemetry-exporter-otlp-proto-common 1.38.0 which is incompatible.\n",
            "opentelemetry-exporter-otlp-proto-http 1.37.0 requires opentelemetry-proto==1.37.0, but you have opentelemetry-proto 1.38.0 which is incompatible.\n",
            "opentelemetry-exporter-otlp-proto-http 1.37.0 requires opentelemetry-sdk~=1.37.0, but you have opentelemetry-sdk 1.38.0 which is incompatible.\n",
            "google-adk 1.16.0 requires opentelemetry-api<=1.37.0,>=1.37.0, but you have opentelemetry-api 1.38.0 which is incompatible.\n",
            "google-adk 1.16.0 requires opentelemetry-sdk<=1.37.0,>=1.37.0, but you have opentelemetry-sdk 1.38.0 which is incompatible.\u001b[0m\u001b[31m\n",
            "\u001b[0m"
          ]
        }
      ],
      "source": [
        "!pip install -q langchain langchain-openai openai tiktoken chromadb langchain-community"
      ]
    },
    {
      "cell_type": "code",
      "source": [
        "# 설치된 특정 라이브러리 버전 확인\n",
        "%pip list | grep -E 'langchain|tiktoken|openai|pypdf|chromadb'"
      ],
      "metadata": {
        "colab": {
          "base_uri": "https://localhost:8080/"
        },
        "id": "MhqS5CwohM1D",
        "outputId": "14224c27-9591-4f39-bdf5-e7d74ab65864"
      },
      "execution_count": 3,
      "outputs": [
        {
          "output_type": "stream",
          "name": "stdout",
          "text": [
            "chromadb                                 1.2.2\n",
            "langchain                                0.3.27\n",
            "langchain-community                      0.3.31\n",
            "langchain-core                           0.3.79\n",
            "langchain-openai                         0.3.35\n",
            "langchain-text-splitters                 0.3.11\n",
            "openai                                   1.109.1\n",
            "tiktoken                                 0.12.0\n"
          ]
        }
      ]
    },
    {
      "cell_type": "markdown",
      "source": [
        "\n",
        "---\n",
        "\n"
      ],
      "metadata": {
        "id": "ZX38mtSWgKfV"
      }
    },
    {
      "cell_type": "markdown",
      "metadata": {
        "id": "LAG2G551Vx4T"
      },
      "source": [
        "# **여러 문서에서 찾아서 답변하는 챗봇 만들기**"
      ]
    },
    {
      "cell_type": "markdown",
      "metadata": {
        "id": "HqwsGJDhvAQ5"
      },
      "source": [
        "## **OpenAI API Key 사용-LangChain 설정**\n",
        "\n",
        "- **OpenAI API Key 발급**\n",
        "    - https://platform.openai.com/account/api-keys 이동\n",
        "        - **[+Create new secret key]** 클릭\n",
        "        - name에 키 이름 넣고**(예: test_key)**\n",
        "        - **[Copy]** 클릭 키를 메모장에 복사해 놓는다. --> 이 키로 과금이 된다.\n",
        "        - **[View user API keys]** 클릭\n",
        "        - 좌측 메뉴에 **Billing** 선택\n",
        "        - **[Add payment details]** 선택 --> **카드 등록, 5$ 결재**"
      ]
    },
    {
      "cell_type": "code",
      "execution_count": 4,
      "metadata": {
        "id": "dNA4TsHpu6OM"
      },
      "outputs": [],
      "source": [
        "import os\n",
        "\n",
        "# os.environ[\"OPENAI_API_KEY\"] = \"여러분들의 Key 값\"\n",
        "os.environ['OPENAI_API_KEY'] =  \"\"\n"
      ]
    },
    {
      "cell_type": "markdown",
      "source": [
        "## **데이터 준비**"
      ],
      "metadata": {
        "id": "iJnHO6ncnTZh"
      }
    },
    {
      "cell_type": "code",
      "execution_count": 5,
      "metadata": {
        "colab": {
          "base_uri": "https://localhost:8080/"
        },
        "id": "43JHqZcQZjW9",
        "outputId": "9299de09-5744-4587-dc02-a8d2643fcff6"
      },
      "outputs": [
        {
          "output_type": "stream",
          "name": "stdout",
          "text": [
            "--2025-10-27 01:19:00--  https://github.com/chatgpt-kr/chatgpt-api-tutorial/raw/main/ch05/data.zip\n",
            "Resolving github.com (github.com)... 140.82.112.3\n",
            "Connecting to github.com (github.com)|140.82.112.3|:443... connected.\n",
            "HTTP request sent, awaiting response... 302 Found\n",
            "Location: https://raw.githubusercontent.com/chatgpt-kr/chatgpt-api-tutorial/main/ch05/data.zip [following]\n",
            "--2025-10-27 01:19:00--  https://raw.githubusercontent.com/chatgpt-kr/chatgpt-api-tutorial/main/ch05/data.zip\n",
            "Resolving raw.githubusercontent.com (raw.githubusercontent.com)... 185.199.108.133, 185.199.109.133, 185.199.110.133, ...\n",
            "Connecting to raw.githubusercontent.com (raw.githubusercontent.com)|185.199.108.133|:443... connected.\n",
            "HTTP request sent, awaiting response... 200 OK\n",
            "Length: 835816 (816K) [application/zip]\n",
            "Saving to: ‘data.zip’\n",
            "\n",
            "data.zip            100%[===================>] 816.23K  --.-KB/s    in 0.03s   \n",
            "\n",
            "2025-10-27 01:19:00 (24.0 MB/s) - ‘data.zip’ saved [835816/835816]\n",
            "\n"
          ]
        }
      ],
      "source": [
        "!wget https://github.com/chatgpt-kr/chatgpt-api-tutorial/raw/main/ch05/data.zip"
      ]
    },
    {
      "cell_type": "code",
      "execution_count": 6,
      "metadata": {
        "colab": {
          "base_uri": "https://localhost:8080/"
        },
        "id": "0Pb0Mif5SojZ",
        "outputId": "4f3c2490-d61d-45b6-baf2-d919442717d0",
        "collapsed": true
      },
      "outputs": [
        {
          "output_type": "stream",
          "name": "stdout",
          "text": [
            "Archive:  data.zip\n",
            "  inflating: 1.txt                   \n",
            "  inflating: 10.txt                  \n",
            "  inflating: 11.txt                  \n",
            "  inflating: 12.txt                  \n",
            "  inflating: 13.txt                  \n",
            "  inflating: 14.txt                  \n",
            "  inflating: 15.txt                  \n",
            "  inflating: 16.txt                  \n",
            "  inflating: 17.txt                  \n",
            "  inflating: 18.txt                  \n",
            "  inflating: 19.txt                  \n",
            "  inflating: 2.txt                   \n",
            "  inflating: 20.txt                  \n",
            "  inflating: 21.txt                  \n",
            "  inflating: 22.txt                  \n",
            "  inflating: 23.txt                  \n",
            "  inflating: 24.txt                  \n",
            "  inflating: 25.txt                  \n",
            "  inflating: 26.txt                  \n",
            "  inflating: 27.txt                  \n",
            "  inflating: 28.txt                  \n",
            "  inflating: 29.txt                  \n",
            "  inflating: 3.txt                   \n",
            "  inflating: 30.txt                  \n",
            "  inflating: 31.txt                  \n",
            "  inflating: 32.txt                  \n",
            "  inflating: 33.txt                  \n",
            "  inflating: 34.txt                  \n",
            "  inflating: 35.txt                  \n",
            "  inflating: 36.txt                  \n",
            "  inflating: 37.txt                  \n",
            "  inflating: 38.txt                  \n",
            "  inflating: 39.txt                  \n",
            "  inflating: 4.txt                   \n",
            "  inflating: 40.txt                  \n",
            "  inflating: 41.txt                  \n",
            "  inflating: 42.txt                  \n",
            "  inflating: 43.txt                  \n",
            "  inflating: 44.txt                  \n",
            "  inflating: 45.txt                  \n",
            "  inflating: 46.txt                  \n",
            "  inflating: 47.txt                  \n",
            "  inflating: 48.txt                  \n",
            "  inflating: 49.txt                  \n",
            "  inflating: 5.txt                   \n",
            "  inflating: 50.txt                  \n",
            "  inflating: 51.txt                  \n",
            "  inflating: 52.txt                  \n",
            "  inflating: 53.txt                  \n",
            "  inflating: 54.txt                  \n",
            "  inflating: 55.txt                  \n",
            "  inflating: 56.txt                  \n",
            "  inflating: 57.txt                  \n",
            "  inflating: 6.txt                   \n",
            "  inflating: 7.txt                   \n",
            "  inflating: 8.txt                   \n",
            "  inflating: 9.txt                   \n",
            "  inflating: embedding.csv           \n"
          ]
        }
      ],
      "source": [
        "# 57개 txt 데이터\n",
        "!unzip data"
      ]
    },
    {
      "cell_type": "markdown",
      "source": [
        "- **사용할 라이브러리**"
      ],
      "metadata": {
        "id": "c7EQ_3CBqjBp"
      }
    },
    {
      "cell_type": "code",
      "execution_count": 7,
      "metadata": {
        "id": "XHVE9uFb3Ajj"
      },
      "outputs": [],
      "source": [
        "# 데이터 로드 및 문서 처리\n",
        "from langchain.document_loaders import TextLoader\n",
        "from langchain.document_loaders import DirectoryLoader\n",
        "\n",
        "# 텍스트 분할\n",
        "from langchain.text_splitter import RecursiveCharacterTextSplitter\n",
        "from collections import Counter\n",
        "\n",
        "# 임베딩 및 벡터DB화\n",
        "from langchain.embeddings import OpenAIEmbeddings\n",
        "from langchain.vectorstores import Chroma\n",
        "\n",
        "# 질의응답: 챗봇\n",
        "from langchain.chains import RetrievalQA\n",
        "from langchain_openai import ChatOpenAI\n"
      ]
    },
    {
      "cell_type": "markdown",
      "metadata": {
        "id": "9UcQKUId3X2M"
      },
      "source": [
        "## **데이터 로드 및 문서처리**"
      ]
    },
    {
      "cell_type": "markdown",
      "metadata": {
        "id": "FYMe4iDpKpau"
      },
      "source": [
        "- **DirectoryLoader**()는 디렉토리 내의 모든 문서들을 로드\n",
        "    - glob는 해당 디렉토리 내의 어떤 확장자를 가진 파일들을 로드할 것인지를 결정.\n",
        "    - ex: glob=\"*.txt\" (현재 경로에 있는 모든 txt 파일을 로드)\n",
        "- txt 파일의 본문은 documents라는 파이썬 리스트의 각 원소로 할당"
      ]
    },
    {
      "cell_type": "markdown",
      "source": [
        "- **txt 문서**"
      ],
      "metadata": {
        "id": "w0hkkMVMutZR"
      }
    },
    {
      "cell_type": "code",
      "execution_count": 8,
      "metadata": {
        "colab": {
          "base_uri": "https://localhost:8080/"
        },
        "id": "PRSeXXc_3Ypj",
        "outputId": "10fb860a-f8b9-4781-cccc-4e8802dc41df"
      },
      "outputs": [
        {
          "output_type": "stream",
          "name": "stdout",
          "text": [
            "문서의 개수 : 57\n"
          ]
        }
      ],
      "source": [
        "from langchain.document_loaders import TextLoader\n",
        "from langchain.document_loaders import DirectoryLoader\n",
        "\n",
        "# txt 문서\n",
        "loader = DirectoryLoader(\n",
        "    path='.', # 경로 안에 파일이 여러개라서 그냥 .만 사용\n",
        "    glob=\"*.txt\",\n",
        "    loader_cls=TextLoader\n",
        ")\n",
        "documents = loader.load()\n",
        "print('문서의 개수 :', len(documents))"
      ]
    },
    {
      "cell_type": "markdown",
      "source": [
        "- **pdf 문서**"
      ],
      "metadata": {
        "id": "lZ9LKyKuuxvB"
      }
    },
    {
      "cell_type": "code",
      "source": [
        "# # pdf 문서\n",
        "# loader = DirectoryLoader(\n",
        "#     path='.',\n",
        "#     glob=\"*.pdf\",\n",
        "#     loader_cls=PyPDFLoader\n",
        "# )\n",
        "# documents = loader.load()\n",
        "# print('문서의 개수 :', len(documents))"
      ],
      "metadata": {
        "id": "QNEXmx_Nlk7F"
      },
      "execution_count": 9,
      "outputs": []
    },
    {
      "cell_type": "markdown",
      "source": [
        "- **파이썬 코드**"
      ],
      "metadata": {
        "id": "Pq0vIexlu1Ai"
      }
    },
    {
      "cell_type": "code",
      "source": [
        "# # **/*.py 문서\n",
        "# loader = DirectoryLoader(\n",
        "#     path='.',\n",
        "#     glob=\"**/*.py\",\n",
        "#     loader_cls=TextLoader,\n",
        "#     xclude=[\"**/__init__.py\"]  # glob 패턴 외에 특정 파일을 제외할 수도 있다.\n",
        "# )\n",
        "# documents = code_loader.load()\n",
        "# print('코드 문서의 개수 :', len(documents))"
      ],
      "metadata": {
        "id": "u-aXOSrXleyd"
      },
      "execution_count": 10,
      "outputs": []
    },
    {
      "cell_type": "markdown",
      "source": [
        "- **다양한 형식 문서** (doc 등) : UnstructuredFileLoader"
      ],
      "metadata": {
        "id": "_VPsZfaFu49W"
      }
    },
    {
      "cell_type": "code",
      "source": [
        "# # 다양한 형 문서 (doc 등)\n",
        "# !pip install -qU unstructured\n",
        "\n",
        "# from langchain_community.document_loaders import UnstructuredFileLoader\n",
        "\n",
        "# loader = DirectoryLoader(\n",
        "#     path='.',\n",
        "#     glob=\"*.*\", # 문서타입 전체\n",
        "#     loader_cls=UnstructuredFileLoader,\n",
        "#     use_multithreading=True # 여러 파일을 동시에 읽어와 속도 향상\n",
        "# )\n",
        "# # UnstructuredFileLoader는 지원하는 확장자만 필터링하여 로드합니다.\n",
        "# docs = all_in_one_loader.load()\n",
        "# print(f\"총 {len(docs)}개의 다양한 문서를 로드했습니다.\")"
      ],
      "metadata": {
        "id": "4TGYLHk7llF8"
      },
      "execution_count": null,
      "outputs": []
    },
    {
      "cell_type": "code",
      "source": [
        "# 문서 일부 출력\n",
        "# for idx, doc in enumerate(documents):\n",
        "#     if idx < 10:\n",
        "#         print(f'{idx:2<} 번 문서 : {doc}')\n",
        "#         print('-' * 50)"
      ],
      "metadata": {
        "id": "B3NxCY3Oswb9"
      },
      "execution_count": null,
      "outputs": []
    },
    {
      "cell_type": "markdown",
      "metadata": {
        "id": "-VBeO__nK8y6"
      },
      "source": [
        "파이썬 리스트에 해당하는 documents에서 임의로 1번 문서와 21번 문서를 출력해보겠습니다."
      ]
    },
    {
      "cell_type": "code",
      "execution_count": 11,
      "metadata": {
        "colab": {
          "base_uri": "https://localhost:8080/"
        },
        "id": "8iNbsE9Sw-eC",
        "outputId": "37f62fd7-f757-45c8-dc59-9cf6a336d0a5"
      },
      "outputs": [
        {
          "output_type": "stream",
          "name": "stdout",
          "text": [
            "1번 문서 : page_content='정책 이름: 창조적 예비청년창업가(로컬 크리에이터)\n",
            "서울신용보증재단에서는 골목상권에서 지역 가치를 차별화된 콘텐츠로 구현하고 매력적인 도시 문화를 형성할 수 있는 로컬 크리에이터를 양성하기 위한 창업 지원 정책을 진행합니다. 이 프로그램은 5개월 동안 교육을 지원하며, 약 10개 팀 정도가 지원을 받을 수 있습니다. 신청자격은 19세에서 39세까지의 서울시 거주자이며, 로컬 브랜드 상권 2기 대상지에서 창업을 희망하는 예비 창업자여야 합니다. 학력, 전공, 취업 상태, 특화 분야에 대한 요건은 없습니다. 신청 방법, 신청 절차, 심사 및 발표 관련 사항, 제출 서류 등은 추후 공지를 통해 안내될 예정입니다. 이 프로그램은 서울신용보증재단에서 운영됩니다.' metadata={'source': '4.txt'}\n",
            "--------------------\n",
            "21번 문서 : page_content='정책제목: 청년인생설계학교\n",
            "정책 유형은 \"진로\"이며, 해당 정책은 서울시청 미래청년기획단에서 주관하고 있습니다. 이 정책은 인생전환기에 있는 청년들에게 주체적인 경로 설정 기회를 제공하여 자존감 향상과 인적 역량 강화를 목표로 합니다. 지원 내용으로는 청년의 진로 발달 단계에 따라 맞춤형 자기이해 및 진로설계 프로그램을 제공합니다. 사업은 2023년 5월 1일부터 2023년 11월 30일까지 운영되며, 신청은 2023년 4월 6일부터 2023년 4월 18일까지 가능합니다. 총 1,060명을 지원할 예정이며, 자세한 내용은 \"https://youth.seoul.go.kr/site/main/content/life_desi_sch_intro\"에서 확인하실 수 있습니다. 신청 자격은 19세부터 39세까지 서울에 거주하는 청년이면 누구나 신청할 수 있습니다. 학력, 전공, 취업 상태, 특화 분야에는 제한이 없으며, 추가적인 단서나 제한 대상은 없습니다. 신청 방법은 청년몽땅정보통 온라인 신청을 통해 이루어지며, 심사 및 발표는 모집 시기마다 우선 및 일반 선정 기준에 따라 진행됩니다. 제출해야 하는 서류는 일반 선정에는 없고, 우선 선정에는 13가지 요건 중 1개 이상 해당되는 자격이 필요합니다. 운영 기관은 ㈜오픈놀이며, 참고 사이트로는 \"https://www.instagram.com/youthschoolseoul\"과 \"https://www.facebook.com/seoulyouthschool\"을 참조하실 수 있습니다.' metadata={'source': '55.txt'}\n",
            "--------------------\n"
          ]
        }
      ],
      "source": [
        "print('1번 문서 :', documents[1]) # 실제 문서명의 순서와 동일하지 않음(ex. 1.txt와 documents[0]은 서로 다른 문서임)\n",
        "print('-' * 20)\n",
        "print('21번 문서 :', documents[2])\n",
        "print('-' * 20)"
      ]
    },
    {
      "cell_type": "code",
      "source": [
        "# 특정 문서의 내용\n",
        "documents[0].page_content"
      ],
      "metadata": {
        "colab": {
          "base_uri": "https://localhost:8080/",
          "height": 143
        },
        "id": "BImjJlBt4sPZ",
        "outputId": "cccd1a63-6940-4623-af70-2e9a86bc96be"
      },
      "execution_count": 12,
      "outputs": [
        {
          "output_type": "execute_result",
          "data": {
            "text/plain": [
              "'정책제목: 자립준비청년 자립수당 지급\\n서울시 아동담당관에서는 아동복지시설에서 보호를 받다가 자립을 준비하고 있는 청년들에게 자립수당을 매월 40만원 지급하는 정책을 운영하고 있습니다. 이 정책은 아동복지시설이나 가정위탁에서 보호를 종료한 후 5년 이내의 청년들을 대상으로 하며, 매월 40만원을 지원합니다. 신청은 방문신청이나 우편신청을 통해 자치구에서 보장결정을 받은 후에 지급되며, 최대 5년 동안 받을 수 있습니다.\\n\\n사업 운영 기간은 2019년 1월 1일부터 2023년 12월 31일까지이며, 신청은 2023년 1월 1일부터 12월 31일까지 가능합니다. 지원 규모는 매월 40만원입니다.\\n\\n신청자격은 18세 이상부터 0세까지이며, 보호종료 후 5년 이내에 해당하는 청년들이 지원 대상입니다. 학력이나 전공 요건, 취업 상태에는 제한이 없습니다. 추가적으로 서비스 이용 청년은 19세부터 39세까지의 청년층을 의미합니다.\\n\\n자세한 신청 방법과 필요한 서류는 아동복지시설이 관할하는 읍, 면, 동 또는 본인의 주민등록 상 주소지 읍, 면, 동을 통해 신청하며, 자립수당 신청서, 금융교육 이수증, 보호종료 확인서 등의 서류를 제출해야 합니다.\\n\\n자세한 내용은 서울시청 미래청년기획단 사이트에서 확인하실 수 있습니다.'"
            ],
            "application/vnd.google.colaboratory.intrinsic+json": {
              "type": "string"
            }
          },
          "metadata": {},
          "execution_count": 12
        }
      ]
    },
    {
      "cell_type": "code",
      "source": [
        "# 특정 문서 metadata(문서명)\n",
        "print(\"인덱스 0번 문서의 metadata: \", documents[0].metadata)\n",
        "print(\"인덱스 0번 문서의 metadata의 source: \", documents[0].metadata['source'])"
      ],
      "metadata": {
        "colab": {
          "base_uri": "https://localhost:8080/"
        },
        "id": "zwRF6dPbC8rK",
        "outputId": "c170f196-5e6e-4407-bb71-849f3e125f96"
      },
      "execution_count": 18,
      "outputs": [
        {
          "output_type": "stream",
          "name": "stdout",
          "text": [
            "인덱스 0번 문서의 metadata:  {'source': '38.txt'}\n",
            "인덱스 0번 문서의 metadata의 source:  38.txt\n"
          ]
        }
      ]
    },
    {
      "cell_type": "markdown",
      "metadata": {
        "id": "gRmlGzWvLKvk"
      },
      "source": [
        "documents 리스트의 각 원소의 구조를 살펴보면 page_content의 값으로 본문이 들어가고, metadata 안의 source의 값으로 해당 문서의 원본 파일의 이름이 기재되어져 있습니다."
      ]
    },
    {
      "cell_type": "markdown",
      "metadata": {
        "id": "L39nElP4Wdu6"
      },
      "source": [
        "## **텍스트 분할**"
      ]
    },
    {
      "cell_type": "markdown",
      "metadata": {
        "id": "PdgYP-BGNoBz"
      },
      "source": [
        "ChatGPT API(GPT-3.5-turbo)는 입력으로 사용하는 텍스트와 ChatGPT API가 반환하는 답변의 길이를 모두 포함하여 최대 4,096 토큰을 처리할 수 있습니다. 예를 들어 ChatGPT API 입력으로 약 2,000 토큰 정도의 길이를 가진 입력을 사용한다면, ChatGPT는 약 2,000 토큰 내외의 답변을 할 수 있는 구조입니다. 입력의 길이가 지나치게 길 경우 ChatGPT API가 답변을 하던 도중 4,096개의 토큰을 모두 소진하면 더 이상 답변을 생성할 수 없어 텍스트가 중간에 끊긴 답변을 얻게 됩니다.  \n",
        "\n",
        "이런 현상을 피하기 위해 너무 긴 문서들은 한 번에 입력으로 사용하는 것이 아니라 여러 개의 뭉치(Chunk)로 잘라서 ChatGPT API를 여러 번 호출하는 방식으로 해결하기도 합니다. Langchain의 RecursiveCharacterTextSplitter()는 이를 위해 사용하는 도구로 주어진 문서들을 더 작은 단위의 텍스트 뭉치(chunk)로 잘라주는 역할을 합니다."
      ]
    },
    {
      "cell_type": "markdown",
      "metadata": {
        "id": "GCB_k44SPXSl"
      },
      "source": [
        "chunk_size는 텍스트의 분할 기준이 되는 길이를 설정하고, chunk_overlap은 텍스트를 분할할 경우 텍스트의 내용을 얼만큼 겹치게 할 것인지를 의미합니다. 위에서 총 57개의 문서 파일을 로드한 documents를 입력으로 사용하여 분할된 텍스트 리스트를 texts에 저장합니다."
      ]
    },
    {
      "cell_type": "markdown",
      "source": [
        "- **chunk_size 단위로 텍스트 분할**"
      ],
      "metadata": {
        "id": "IJ0L1GZTFeZ0"
      }
    },
    {
      "cell_type": "code",
      "execution_count": 14,
      "metadata": {
        "colab": {
          "base_uri": "https://localhost:8080/"
        },
        "id": "3__nT0D4Fkmg",
        "outputId": "17f24bc2-06c1-492d-9ec5-9ca315a58137"
      },
      "outputs": [
        {
          "output_type": "stream",
          "name": "stdout",
          "text": [
            "분할된 텍스트의 개수 : 64\n"
          ]
        }
      ],
      "source": [
        "from langchain.text_splitter import RecursiveCharacterTextSplitter\n",
        "\n",
        "text_splitter = RecursiveCharacterTextSplitter(chunk_size=1000, chunk_overlap=200) # 서로가 같은 문서라는걸 이해하기위해 이정도까지는 overlap하겠다~ 이런의미\n",
        "texts = text_splitter.split_documents(documents)\n",
        "\n",
        "print('분할된 텍스트의 개수 :', len(texts))"
      ]
    },
    {
      "cell_type": "markdown",
      "metadata": {
        "id": "q5DCo9-L07gA"
      },
      "source": [
        "57개의 문서가 총 64개의 텍스트로 분할되었습니다. 그 중 임의로 첫번째 문서를 출력해보겠습니다."
      ]
    },
    {
      "cell_type": "code",
      "execution_count": 15,
      "metadata": {
        "colab": {
          "base_uri": "https://localhost:8080/"
        },
        "id": "Bg6-9jwU4ja_",
        "outputId": "df9c563c-1c27-44e5-8a33-440513147d2b"
      },
      "outputs": [
        {
          "output_type": "execute_result",
          "data": {
            "text/plain": [
              "Document(metadata={'source': '38.txt'}, page_content='정책제목: 자립준비청년 자립수당 지급\\n서울시 아동담당관에서는 아동복지시설에서 보호를 받다가 자립을 준비하고 있는 청년들에게 자립수당을 매월 40만원 지급하는 정책을 운영하고 있습니다. 이 정책은 아동복지시설이나 가정위탁에서 보호를 종료한 후 5년 이내의 청년들을 대상으로 하며, 매월 40만원을 지원합니다. 신청은 방문신청이나 우편신청을 통해 자치구에서 보장결정을 받은 후에 지급되며, 최대 5년 동안 받을 수 있습니다.\\n\\n사업 운영 기간은 2019년 1월 1일부터 2023년 12월 31일까지이며, 신청은 2023년 1월 1일부터 12월 31일까지 가능합니다. 지원 규모는 매월 40만원입니다.\\n\\n신청자격은 18세 이상부터 0세까지이며, 보호종료 후 5년 이내에 해당하는 청년들이 지원 대상입니다. 학력이나 전공 요건, 취업 상태에는 제한이 없습니다. 추가적으로 서비스 이용 청년은 19세부터 39세까지의 청년층을 의미합니다.\\n\\n자세한 신청 방법과 필요한 서류는 아동복지시설이 관할하는 읍, 면, 동 또는 본인의 주민등록 상 주소지 읍, 면, 동을 통해 신청하며, 자립수당 신청서, 금융교육 이수증, 보호종료 확인서 등의 서류를 제출해야 합니다.\\n\\n자세한 내용은 서울시청 미래청년기획단 사이트에서 확인하실 수 있습니다.')"
            ]
          },
          "metadata": {},
          "execution_count": 15
        }
      ],
      "source": [
        "texts[0]"
      ]
    },
    {
      "cell_type": "markdown",
      "metadata": {
        "id": "h3ZSQO6f1AXy"
      },
      "source": [
        "형식은 documents 원소에서 확인하였을 때와 동일하며 page_content에는 분할된 텍스트이 본문이 저장되어져 있고, source에는 해당 본문의 원본 파일의 이름이 저장되어져 있습니다. 57개의 문서가 64개의 텍스트로 분할되었다는 것은 일부 문서는 추가적으로 분할되었음을 의미합니다.  \n",
        "\n",
        "metadata 안의 source의 값을 이용하여 어떤 문서들을 추가적으로 분할되었는지 확인해보겠습니다. texts의 각 원소들의 source 값을 모두 체크하였을 때 source 값이 중복되어 등장한다면 해당 문서는 추가적으로 분할되었음을 의미합니다."
      ]
    },
    {
      "cell_type": "markdown",
      "source": [
        "- **2개 이상으로 분할된 문서**"
      ],
      "metadata": {
        "id": "eljbidDqFX9i"
      }
    },
    {
      "cell_type": "code",
      "execution_count": 19,
      "metadata": {
        "colab": {
          "base_uri": "https://localhost:8080/"
        },
        "id": "TYTCw890xHQ8",
        "outputId": "4974f811-e647-40d2-e349-2e5fb8fb4f78"
      },
      "outputs": [
        {
          "output_type": "stream",
          "name": "stdout",
          "text": [
            "2개 이상으로 분할된 문서 : {'49.txt': 2, '23.txt': 2, '48.txt': 2, '40.txt': 2, '36.txt': 2, '22.txt': 2, '31.txt': 2}\n",
            "분할된 텍스트의 개수 : 64\n"
          ]
        }
      ],
      "source": [
        "source_lst = []\n",
        "for i in range(0, len(texts)):\n",
        "  source_lst.append(texts[i].metadata['source'])\n",
        "\n",
        "element_counts = Counter(source_lst)\n",
        "filtered_counts = {key: value for key, value in element_counts.items() if value >= 2}\n",
        "print('2개 이상으로 분할된 문서 :', filtered_counts)\n",
        "print('분할된 텍스트의 개수 :', len(documents) + len(filtered_counts))"
      ]
    },
    {
      "cell_type": "markdown",
      "metadata": {
        "id": "BSmg2PPPQnyj"
      },
      "source": [
        "확인 결과 48번 문서, 23번 문서, 31번 문서, 49번 문서, 36번 문서, 22번 문서, 40번 문서가 2개의 텍스트로 추가적으로 분할되었습니다. 총 57개의 문서 중 7개의 문서가 2개의 텍스트로 분할되었음으로 총 합 64개의 텍스트가 생기게 됩니다."
      ]
    },
    {
      "cell_type": "markdown",
      "metadata": {
        "id": "YsYsIy8F4cdm"
      },
      "source": [
        "## **임베딩 및 벡터DB화**"
      ]
    },
    {
      "cell_type": "markdown",
      "metadata": {
        "id": "Li1cqcVtRJvs"
      },
      "source": [
        "앞서 6장에서 OpenAI Embedding API를 이용하여 텍스트를 임베딩하고, 코사인 유사도를 통해 유사한 텍스트를 가져오는 실습을 진행한 바 있습니다. Chroma DB는 이 과정들을 기능 별로 이미 구현하여 사용자가 벡터를 좀 더 쉽게 다룰 수 있도록 도와주는 편리한 벡터 응용 도구입니다. Chroma.from_documents()를 통해 벡터 도구 객체를 선언합니다. 이때 documents에는 벡터화의 단위가 될 텍스트 리스트를 매개변수로 사용하고, embedding에는 어떤 종류의 임베딩을 사용할 것인지를 기재해줍니다. 여기서는 6장에서와 같이 OpenAI의 Embedding API를 사용합니다."
      ]
    },
    {
      "cell_type": "code",
      "execution_count": 20,
      "metadata": {
        "colab": {
          "base_uri": "https://localhost:8080/"
        },
        "id": "Q_eTIZwf4Dk2",
        "outputId": "974c2864-7a02-4d81-ffef-b0c0b9ab2b2e"
      },
      "outputs": [
        {
          "output_type": "stream",
          "name": "stderr",
          "text": [
            "/tmp/ipython-input-1011075910.py:4: LangChainDeprecationWarning: The class `OpenAIEmbeddings` was deprecated in LangChain 0.0.9 and will be removed in 1.0. An updated version of the class exists in the :class:`~langchain-openai package and should be used instead. To use it run `pip install -U :class:`~langchain-openai` and import as `from :class:`~langchain_openai import OpenAIEmbeddings``.\n",
            "  embedding = OpenAIEmbeddings()\n"
          ]
        }
      ],
      "source": [
        "from langchain.embeddings import OpenAIEmbeddings\n",
        "from langchain.vectorstores import Chroma\n",
        "\n",
        "embedding = OpenAIEmbeddings()\n",
        "\n",
        "vectordb = Chroma.from_documents(\n",
        "    documents=texts,\n",
        "    embedding=embedding)"
      ]
    },
    {
      "cell_type": "markdown",
      "metadata": {
        "id": "siLXR-XT0JoI"
      },
      "source": [
        "## **벡터DB 검색(retriever)**"
      ]
    },
    {
      "cell_type": "markdown",
      "metadata": {
        "id": "xYoKpTdfWDS7"
      },
      "source": [
        "벡터 도구 객체를 선언하고 나면 as_retriever()를 통해서 입력된 텍스트로부터 유사한 텍스트를 찾아주는 retriever를 선언할 수 있습니다. retriever를 선언 후 get_relevant_documents()를 통해 입력된 텍스트와 유사한 문서들을 찾아서 반환합니다. 6장에서 실습했던 벡터의 유사도를 구하는 과정을 별도의 추가 구현없이 손쉽게 사용할 수 있습니다."
      ]
    },
    {
      "cell_type": "code",
      "execution_count": 21,
      "metadata": {
        "id": "6ObunFU30Lxh"
      },
      "outputs": [],
      "source": [
        "# 벡터DB 검색자\n",
        "retriever = vectordb.as_retriever()"
      ]
    },
    {
      "cell_type": "code",
      "execution_count": 22,
      "metadata": {
        "colab": {
          "base_uri": "https://localhost:8080/"
        },
        "id": "cYA-H59u0Skn",
        "outputId": "26b16b4c-7c23-4cb2-c945-e10a447a9799"
      },
      "outputs": [
        {
          "output_type": "stream",
          "name": "stderr",
          "text": [
            "/tmp/ipython-input-1265528122.py:2: LangChainDeprecationWarning: The method `BaseRetriever.get_relevant_documents` was deprecated in langchain-core 0.1.46 and will be removed in 1.0. Use :meth:`~invoke` instead.\n",
            "  docs = retriever.get_relevant_documents(\"신혼 부부를 위한 정책이 있어?\")\n"
          ]
        },
        {
          "output_type": "stream",
          "name": "stdout",
          "text": [
            "유사 문서 개수 : 4\n",
            "----------------------------------------\n",
            "첫번째 유사 문서 : page_content='이 정책은 주거마련에 대한 부담을 완화하여 혼인수 감소와 출산기피 현상을 해결하고, 더 나은 주거환경을 제공하기 위해 서울시에서 운영하는 정책입니다. 대상 가구는 총 8,000가구로 제한되며, 지원 기간은 2023년 1월 1일부터 2023년 12월 31일까지입니다.\n",
            "\n",
            "이 정책에 참여하기 위해서는 다음의 신청자격을 충족해야 합니다. 먼저, 서울시민이거나 대출 후 1개월 이내에 서울로 전입 예정이어야 합니다. 또한 혼인신고일 기준으로 7년 이내의 신혼부부이거나 서울시 추천서 신청일로부터 6개월 이내에 결혼식 예정인 예비신혼부부여야 합니다. 부부의 합산 연소득은 9천 7백만원 이하여야 하며, 본인 및 배우자는 무주택자여야 합니다. 또한, 특정 주택 조건을 충족하는 주택의 임대차계약을 체결한 자에게 대출이 지원됩니다.\n",
            "\n",
            "이 정책은 서울주거포털(https://housing.seoul.go.kr)을 통해 온라인으로 신청할 수 있습니다. 필요한 제출서류로는 주민등록등본, 가족관계증명서, 혼인관계증명서, 그리고 임대차계약서가 있습니다.\n",
            "\n",
            "이 정책은 서울시청 주택정책과에서 운영되며, 자세한 사항은 해당 사이트(https://housing.seoul.go.kr)에서 확인하실 수 있습니다.' metadata={'source': '23.txt'}\n",
            "----------------------------------------\n",
            "각 유사 문서의 문서 출처 :\n",
            "23.txt\n",
            "23.txt\n",
            "40.txt\n",
            "39.txt\n"
          ]
        }
      ],
      "source": [
        "# 유사 문서 검색\n",
        "docs = retriever.get_relevant_documents(\"신혼 부부를 위한 정책이 있어?\")\n",
        "print('유사 문서 개수 :', len(docs))\n",
        "print('--' * 20)\n",
        "print('첫번째 유사 문서 :', docs[0])\n",
        "print('--' * 20)\n",
        "print('각 유사 문서의 문서 출처 :')\n",
        "for doc in docs:\n",
        "    print(doc.metadata[\"source\"])"
      ]
    },
    {
      "cell_type": "markdown",
      "metadata": {
        "id": "h3mZszDFW5aw"
      },
      "source": [
        "### **결과를 k개 반환**"
      ]
    },
    {
      "cell_type": "markdown",
      "metadata": {
        "id": "XZT12P9UYVdb"
      },
      "source": [
        "만약 유사한 문서의 개수를 임의로 지정하고 싶다면 retriever 선언 시에 search_kwargs={\"k\": <문서의 개수>}를 추가적으로 입력으로 넣어주면 됩니다. 다음의 코드는 유사한 텍스트가 2개만 출력되는 모습을 보여줍니다."
      ]
    },
    {
      "cell_type": "code",
      "execution_count": 23,
      "metadata": {
        "id": "jVWgPJXs1yRq"
      },
      "outputs": [],
      "source": [
        "retriever = vectordb.as_retriever(search_kwargs={\"k\": 2})"
      ]
    },
    {
      "cell_type": "code",
      "execution_count": 24,
      "metadata": {
        "colab": {
          "base_uri": "https://localhost:8080/"
        },
        "id": "58fAAOHfVLeM",
        "outputId": "28db1390-28cd-4a78-9f1e-01205108cf58"
      },
      "outputs": [
        {
          "output_type": "stream",
          "name": "stdout",
          "text": [
            "23.txt\n",
            "이 정책은 주거마련에 대한 부담을 완화하여 혼인수 감소와 출산기피 현상을 해결하고, 더 나은 주거환경을 제공하기 위해 서울시에서 운영하는 정책입니다. 대상 가구는 총 8,000가구로 제한되며, 지원 기간은 2023년 1월 1일부터 2023년 12월 31일까지입니다.\n",
            "\n",
            "이 정책에 참여하기 위해서는 다음의 신청자격을 충족해야 합니다. 먼저, 서울시민이거나 대출 후 1개월 이내에 서울로 전입 예정이어야 합니다. 또한 혼인신고일 기준으로 7년 이내의 신혼부부이거나 서울시 추천서 신청일로부터 6개월 이내에 결혼식 예정인 예비신혼부부여야 합니다. 부부의 합산 연소득은 9천 7백만원 이하여야 하며, 본인 및 배우자는 무주택자여야 합니다. 또한, 특정 주택 조건을 충족하는 주택의 임대차계약을 체결한 자에게 대출이 지원됩니다.\n",
            "\n",
            "이 정책은 서울주거포털(https://housing.seoul.go.kr)을 통해 온라인으로 신청할 수 있습니다. 필요한 제출서류로는 주민등록등본, 가족관계증명서, 혼인관계증명서, 그리고 임대차계약서가 있습니다.\n",
            "\n",
            "이 정책은 서울시청 주택정책과에서 운영되며, 자세한 사항은 해당 사이트(https://housing.seoul.go.kr)에서 확인하실 수 있습니다.\n",
            "----------------------------------------\n",
            "23.txt\n",
            "정책제목: 신혼부부 임차보증금 지원\n",
            "정부에서는 주거 관련 정책을 통해 부담을 완화하여 더 나은 주거환경을 제공하고자 합니다. 현재 주거마련에 대한 부담으로 인해 혼인수가 감소하고 출산기피 현상이 발생하고 있습니다. 따라서 주거비 부담을 완화하여 이러한 문제를 해결하고, 좋은 주거환경을 제공하고자 합니다.\n",
            "\n",
            "이 정책은 서울시청 주택정책과에서 주관하며, 주거 마련에 대한 부담을 완화하기 위한 내용을 포함하고 있습니다. 지원 대상은 관내 임차보증금 7억 이내의 주택 또는 주거용 오피스텔에 대해 해당하는 서울시민이나 서울로 전입 예정인 자입니다. 대출한도는 임차보증금의 90% 이내 또는 2억원 중 작은 금액이며, 대출금의 최대 연 3.6% 이차보전 및 최장 10년까지 지원됩니다.\n",
            "\n",
            "주택조건과 대출형식은 한국주택금융공사 보증 및 협약은행(국민, 하나, 신한) 대출, 그리고 서울시 이차보전이 적용됩니다. 이 정책은 2023년 1월 1일부터 2023년 12월 31일까지 운영되며, 신청자격은 1세부터 100세까지의 연령을 가진 사람들이 해당합니다.\n",
            "\n",
            "대출을 받기 위한 추가 요건으로는 혼인신고일 기준으로 7년 이내의 신혼부부이거나 서울시 추천서 신청일로부터 6개월 이내에 결혼식 예정인 예비신혼부부여야 합니다. 또한 부부합산 연소득이 9천 7백만원 이하이고 본인 및 배우자가 무주택자여야 합니다. 대출을 받을 주택은 특정 조건을 충족하는 주택의 임대차계약을 체결한 사람들을 대상으로 합니다.\n",
            "\n",
            "이 정책은 서울주거포털(https://housing.seoul.go.kr)에서 온라인으로 신청할 수 있습니다. 필요한 서류로는 주민등록등본, 가족관계증명서, 혼인관계증명서, 그리고 임대차계약서가 제출되어야 합니다.\n",
            "\n",
            "이 정책은 주거마련에 대한 부담을 완화하여 혼인수 감소와 출산기피 현상을 해결하고, 더 나은 주거환경을 제공하기 위해 서울시에서 운영하는 정책입니다. 대상 가구는 총 8,000가구로 제한되며, 지원 기간은 2023년 1월 1일부터 2023년 12월 31일까지입니다.\n",
            "----------------------------------------\n"
          ]
        }
      ],
      "source": [
        "docs = retriever.get_relevant_documents(\"신혼 부부를 위한 정책이 있어?\")\n",
        "\n",
        "for doc in docs:\n",
        "    print(doc.metadata[\"source\"])\n",
        "    print(doc.page_content)\n",
        "    print('--' * 20)"
      ]
    },
    {
      "cell_type": "markdown",
      "metadata": {
        "id": "4Ia-4OXa5IeP"
      },
      "source": [
        "## **검색 체인 만들기**"
      ]
    },
    {
      "cell_type": "markdown",
      "metadata": {
        "id": "zhD0xWYwPSbi"
      },
      "source": [
        "이제 ChatGPT API와 이미 만들어진 Prompt를 통해서 간단히 챗봇을 구현해봅시다. RetrievalQA.from_chain_type()의 llm 매개변수의 값으로 초기에 임포트한 OpenAI()를 사용할 경우, 기본값으로 ChatGPT API를 사용합니다.**chain_type의 매개변수**의 값으로 \"**stuff**\"를 사용할 경우, 사용자의 눈에는 보이지 않지만 **자동으로 아래의 프롬프트를 사용**하여 챗봇을 구현합니다.  \n",
        "```\n",
        "Use the following pieces of context to answer the users question.\n",
        "If you don't know the answer, just say that you don't know, don't try to make up an answer.\n",
        "----------------\n",
        "{텍스트}\n",
        "\n",
        "{질문}\n",
        "```"
      ]
    },
    {
      "cell_type": "markdown",
      "metadata": {
        "id": "B0aZhSdyP8MV"
      },
      "source": [
        "- **{텍스트}** 에는 **사용자의 질문으로부터 높은 유사도를 가진 텍스트**가 들어가게 되고,\n",
        "- **{질문}** 부분은 **사용자의 질문**이 들어가게 됩니다.\n",
        "- **retriever**는 입력된 사용자의 질문으로부터 유사도를 계산하는 도구를 구현하여 매개변수의 값으로 넘겨주면 됩니다. 앞서 **이미 Chroma를 통해 벡터 도구 객체**로부터 구현한 retreiver를 사용합니다.  \n",
        "\n",
        "- **return_source_documents**는 **챗봇의 답변에 사용된 텍스트들의 출처를 표시**할 것인지를 의미합니다. return_source_documents의 값을 False로 할 경우, 챗봇의 답변이 어떤 텍스트에 근거하였는지 알 수 없습니다. 여기서는 뒤에서 근거가 되는 텍스트의 출처를 확인할 것이므로 True를 사용합니다."
      ]
    },
    {
      "cell_type": "markdown",
      "source": [
        "- **검색 모델** : gpt-3.5-turbo"
      ],
      "metadata": {
        "id": "SWRN95m-SGX2"
      }
    },
    {
      "cell_type": "code",
      "execution_count": 25,
      "metadata": {
        "id": "MGx8XblM4shW"
      },
      "outputs": [],
      "source": [
        "from langchain.chains import RetrievalQA\n",
        "from langchain_openai import ChatOpenAI\n",
        "\n",
        "qa_chain = RetrievalQA.from_chain_type(\n",
        "    llm=ChatOpenAI(model_name=\"gpt-3.5-turbo\", temperature=0),\n",
        "    chain_type=\"stuff\",             # 자동 프롬프트 사용함\n",
        "    retriever=retriever,            # 앞에서 생성한 벡터DB 검색자\n",
        "    return_source_documents=True)"
      ]
    },
    {
      "cell_type": "markdown",
      "metadata": {
        "id": "RjyrGZyeW_iO"
      },
      "source": [
        "## **질의(Query)**"
      ]
    },
    {
      "cell_type": "markdown",
      "metadata": {
        "id": "FXdkn2aqRmss"
      },
      "source": [
        "이제 **qa_chain**을 통해 사용자의 입력으로부터 서울 청년 정책과 관련된 챗봇의 답변을 얻을 수 있습니다. 임의의 \"대출과 관련된 정책이 궁금합니다\"라는 텍스트를 입력하여 qa_chain의 반환 결과를 확인해봅시다."
      ]
    },
    {
      "cell_type": "markdown",
      "source": [
        "### **Query → Response**"
      ],
      "metadata": {
        "id": "DV70KYJ-VnAN"
      }
    },
    {
      "cell_type": "code",
      "execution_count": 26,
      "metadata": {
        "colab": {
          "base_uri": "https://localhost:8080/"
        },
        "id": "3YJIbk8hRPN2",
        "outputId": "7b18aa2e-8137-4131-bbaa-f3317fa79a74"
      },
      "outputs": [
        {
          "output_type": "stream",
          "name": "stderr",
          "text": [
            "/tmp/ipython-input-3407282965.py:2: LangChainDeprecationWarning: The method `Chain.__call__` was deprecated in langchain 0.1.0 and will be removed in 1.0. Use :meth:`~invoke` instead.\n",
            "  chatbot_response = qa_chain(input_text)\n"
          ]
        },
        {
          "output_type": "stream",
          "name": "stdout",
          "text": [
            "{'query': '대출과 관련된 정책이 궁금합니다', 'result': \"서울시에서는 학자금대출로 인해 신용이 떨어져 어려움을 겪고 있는 청년층을 위한 '서울시 학자금대출 신용회복 지원사업'과 청년과 신혼부부의 주거비 부담을 경감하기 위한 '역세권청년주택 주거비지원' 정책을 운영하고 있습니다. 두 정책에 대한 자세한 내용은 각각의 참고사이트를 확인하시면 됩니다.\", 'source_documents': [Document(metadata={'source': '35.txt'}, page_content='정책내용: 서울시 학자금대출 신용회복 지원사업\\n서울특별시 미래청년기획단이 주최하는 금융 정책으로, 학자금 대출로 인해 신용이 떨어져 어려움을 겪고 있는 청년층을 위한 신용회복 지원입니다. 이 정책은 분할상환약정 체결을 지원하고 초입금을 제공함으로써 신용유의자 등록을 해제하는 내용을 포함하고 있습니다. 추가적인 자부담 없이 약정을 체결할 수 있도록 합니다.\\n\\n지원 대상은 서울에 거주하며 학자금 대출로 인한 신용유의자인 19세부터 39세까지의 청년들이며, 약 200여명을 지원합니다. 2018년부터 2022년에 지원을 받은 사람은 2023년 지원 대상에서 제외됩니다.\\n\\n신청은 서울청년포털(youth.seoul.go.kr)을 통해 신청할 수 있으며, 심사 및 발표는 매월 1~2회 선정되며, 신청인원에 따라 주기가 변동할 수 있습니다.\\n\\n이 정책은 서울시 미래청년기획단이 운영하며, 자세한 내용은 관련 사이트를 참고하시기 바랍니다.\\n\\n[참고사이트]\\n신용회복 신청 안내: https://youth.seoul.go.kr/site/main/board/notice/27789?baCategory1=basic&baCommSelec=true\\n신청사이트: https://youth.seoul.go.kr/site/main/applyLoanCredit/step1'), Document(metadata={'source': '39.txt'}, page_content='정책제목: 역세권청년주택 주거비지원\\n서울시 전략주택공급과에서는 청년과 신혼부부의 주거비 부담을 경감하기 위해 임차보증금 대출을 지원하는 정책을 운영하고 있습니다. 이 정책은 혼인 감소 및 출산율 감소 문제를 해결하기 위한 것으로, 임차보증금에 대해 무이자 지원을 제공합니다.\\n\\n지원 내용은 다음과 같습니다:\\n임차보증금이 1억원을 초과하는 경우: 보증금의 30% 지원 (청년 최대 4,500만원, 신혼부부 최대 6,000만원)\\n임차보증금이 1억원 이하인 경우: 보증금의 50% 지원 (청년 및 신혼부부 최대 4,500만원)\\n신청 자격은 19세에서 39세까지이며, 임차보증금 무이자 지원을 받을 수 있는 대상입니다. 학력 전공, 취업 상태 등 제한은 없습니다. 다만, 서울시 임차보증금 및 이자 지원과 중복 신청은 불가능하며, 타 금융기관의 전세자금 대출과는 중복 가능하나 대출 가능 여부는 해당 금융기관에 문의해야 합니다.\\n\\n신청은 신청서 및 필요한 서류를 제출한 후 대상자가 선정되고 통보됩니다. 이후 임대차 계약 체결과 주거비지원 약정서 체결이 이루어진 후, 지원금액이 임대인 계좌로 입금됩니다.\\n\\n자세한 신청 방법과 필요한 서류는 서울시 소셜공동체 온라인 포털에서 확인하실 수 있습니다. 추가적인 사항은 참고사이트1를 참고하시기 바랍니다.')]}\n",
            "\n",
            "query : 대출과 관련된 정책이 궁금합니다\n",
            "result : 서울시에서는 학자금대출로 인해 신용이 떨어져 어려움을 겪고 있는 청년층을 위한 '서울시 학자금대출 신용회복 지원사업'과 청년과 신혼부부의 주거비 부담을 경감하기 위한 '역세권청년주택 주거비지원' 정책을 운영하고 있습니다. 두 정책에 대한 자세한 내용은 각각의 참고사이트를 확인하시면 됩니다.\n",
            "source_documents : [Document(metadata={'source': '35.txt'}, page_content='정책내용: 서울시 학자금대출 신용회복 지원사업\\n서울특별시 미래청년기획단이 주최하는 금융 정책으로, 학자금 대출로 인해 신용이 떨어져 어려움을 겪고 있는 청년층을 위한 신용회복 지원입니다. 이 정책은 분할상환약정 체결을 지원하고 초입금을 제공함으로써 신용유의자 등록을 해제하는 내용을 포함하고 있습니다. 추가적인 자부담 없이 약정을 체결할 수 있도록 합니다.\\n\\n지원 대상은 서울에 거주하며 학자금 대출로 인한 신용유의자인 19세부터 39세까지의 청년들이며, 약 200여명을 지원합니다. 2018년부터 2022년에 지원을 받은 사람은 2023년 지원 대상에서 제외됩니다.\\n\\n신청은 서울청년포털(youth.seoul.go.kr)을 통해 신청할 수 있으며, 심사 및 발표는 매월 1~2회 선정되며, 신청인원에 따라 주기가 변동할 수 있습니다.\\n\\n이 정책은 서울시 미래청년기획단이 운영하며, 자세한 내용은 관련 사이트를 참고하시기 바랍니다.\\n\\n[참고사이트]\\n신용회복 신청 안내: https://youth.seoul.go.kr/site/main/board/notice/27789?baCategory1=basic&baCommSelec=true\\n신청사이트: https://youth.seoul.go.kr/site/main/applyLoanCredit/step1'), Document(metadata={'source': '39.txt'}, page_content='정책제목: 역세권청년주택 주거비지원\\n서울시 전략주택공급과에서는 청년과 신혼부부의 주거비 부담을 경감하기 위해 임차보증금 대출을 지원하는 정책을 운영하고 있습니다. 이 정책은 혼인 감소 및 출산율 감소 문제를 해결하기 위한 것으로, 임차보증금에 대해 무이자 지원을 제공합니다.\\n\\n지원 내용은 다음과 같습니다:\\n임차보증금이 1억원을 초과하는 경우: 보증금의 30% 지원 (청년 최대 4,500만원, 신혼부부 최대 6,000만원)\\n임차보증금이 1억원 이하인 경우: 보증금의 50% 지원 (청년 및 신혼부부 최대 4,500만원)\\n신청 자격은 19세에서 39세까지이며, 임차보증금 무이자 지원을 받을 수 있는 대상입니다. 학력 전공, 취업 상태 등 제한은 없습니다. 다만, 서울시 임차보증금 및 이자 지원과 중복 신청은 불가능하며, 타 금융기관의 전세자금 대출과는 중복 가능하나 대출 가능 여부는 해당 금융기관에 문의해야 합니다.\\n\\n신청은 신청서 및 필요한 서류를 제출한 후 대상자가 선정되고 통보됩니다. 이후 임대차 계약 체결과 주거비지원 약정서 체결이 이루어진 후, 지원금액이 임대인 계좌로 입금됩니다.\\n\\n자세한 신청 방법과 필요한 서류는 서울시 소셜공동체 온라인 포털에서 확인하실 수 있습니다. 추가적인 사항은 참고사이트1를 참고하시기 바랍니다.')]\n"
          ]
        }
      ],
      "source": [
        "input_text = \"대출과 관련된 정책이 궁금합니다\"\n",
        "chatbot_response = qa_chain(input_text)\n",
        "print(chatbot_response)\n",
        "print()\n",
        "for k, v in chatbot_response.items():\n",
        "    print(k, ':', v)"
      ]
    },
    {
      "cell_type": "markdown",
      "metadata": {
        "id": "EcNvY-6PR87o"
      },
      "source": [
        "qa_chain의 결과를 chatbot_response에 저장하고 출력하면 'query', 'result', source_documents 세 개의 key값을 갖고 있습니다. 이 중 source_documents의 경우 내부적으로 앞서 확인한 형식인 page_content와 meta_data의 값을 가집니다."
      ]
    },
    {
      "cell_type": "markdown",
      "metadata": {
        "id": "Y19WAZTJSNRu"
      },
      "source": [
        "'query'의 경우 현재 입력된 사용자의 질문을 의미합니다. 이때 qa_chain은 앞서 구현한 retriever을 통해서  내부적으로 '대출과 관련된 정책이 궁금합니다'와 유사도가 높은 텍스트 2개를 찾아냅니다. metadata 내의 source의 값에 따르면 해당 텍스트는 35.txt 파일과 39.txt 파일의 본문에 해당되며 두  본문(여기서는 page_content의 값)을 통해서 앞서 위에서 확인한 stuff 프롬프트를 통하여 챗봇은 답변을 작성합니다. 해당 챗봇의 **답변**은 결과적으로 '**result**'의 값에 해당됩니다."
      ]
    },
    {
      "cell_type": "markdown",
      "metadata": {
        "id": "3kWF1-VwS0MG"
      },
      "source": [
        "현재 chatbot_response의 값은 너무 복잡합니다. 실제 사용자가 사용하는 챗봇을 가정하기 위해 chatbot_response로부터 실제 챗봇 답변에 해당하는 'result' 부분만 꺼내오고, 또한 답변에 사용된 출처를 확인하기 위해 **metadata** 내의 **source**의 값을 추가적으로 출력하는 **get_chatbot_response()** 함수를 구현합니다."
      ]
    },
    {
      "cell_type": "code",
      "execution_count": 27,
      "metadata": {
        "id": "LZEo26mw8e5k"
      },
      "outputs": [],
      "source": [
        "def get_chatbot_response(chatbot_response):\n",
        "    print(chatbot_response['result'].strip())\n",
        "    print('\\n문서 출처:')\n",
        "    for source in chatbot_response[\"source_documents\"]:\n",
        "        print(source.metadata['source'])"
      ]
    },
    {
      "cell_type": "markdown",
      "metadata": {
        "id": "C_OLFmtxT2YX"
      },
      "source": [
        "\"신혼 부부의 신혼집 마련을 위한 정책이 있을까?\"라는 임의의 입력에 대해서 챗봇의 답변을 확인해보겠습니다."
      ]
    },
    {
      "cell_type": "code",
      "execution_count": 28,
      "metadata": {
        "colab": {
          "base_uri": "https://localhost:8080/"
        },
        "id": "wKfX4vX-5RFT",
        "outputId": "2c5046f0-5d29-4426-f6b8-ccdbdad159ce"
      },
      "outputs": [
        {
          "output_type": "stream",
          "name": "stdout",
          "text": [
            "네, 서울시에서는 '신혼부부 임차보증금 지원'이라는 정책을 운영하고 있습니다. 이 정책은 주거마련에 대한 부담을 완화하여 혼인수 감소와 출산기피 현상을 해결하고, 더 나은 주거환경을 제공하기 위해 마련된 것입니다. 대상 가구는 총 8,000가구로 제한되며, 지원 기간은 2023년 1월 1일부터 2023년 12월 31일까지입니다. 자세한 내용은 서울주거포털(https://housing.seoul.go.kr)에서 확인하실 수 있습니다.\n",
            "\n",
            "문서 출처:\n",
            "23.txt\n",
            "23.txt\n"
          ]
        }
      ],
      "source": [
        "input_text = \"신혼 부부의 신혼집 마련을 위한 정책이 있을까?\"\n",
        "chatbot_response = qa_chain(input_text)\n",
        "get_chatbot_response(chatbot_response)"
      ]
    },
    {
      "cell_type": "markdown",
      "metadata": {
        "id": "WhFknuhMT-AO"
      },
      "source": [
        "신혼부부 임차 보증금 지원 정책을 소개합니다. 텍스트의 출처가 23.txt가 두 번 출력됩니다. 이는 앞서 text_splitter.split_documents()가 57개의 문서를 64개의 텍스트로 분할하는 가정에서 23.txt가 두 개의 텍스트로 분할되었기 때문입니다. chatbot_response의 값을 출력해보겠습니다."
      ]
    },
    {
      "cell_type": "code",
      "execution_count": 29,
      "metadata": {
        "colab": {
          "base_uri": "https://localhost:8080/"
        },
        "id": "olRm73t3rNt2",
        "outputId": "3e1cbaaf-544e-467a-c759-ee67cfe89d99"
      },
      "outputs": [
        {
          "output_type": "execute_result",
          "data": {
            "text/plain": [
              "{'query': '신혼 부부의 신혼집 마련을 위한 정책이 있을까?',\n",
              " 'result': \"네, 서울시에서는 '신혼부부 임차보증금 지원'이라는 정책을 운영하고 있습니다. 이 정책은 주거마련에 대한 부담을 완화하여 혼인수 감소와 출산기피 현상을 해결하고, 더 나은 주거환경을 제공하기 위해 마련된 것입니다. 대상 가구는 총 8,000가구로 제한되며, 지원 기간은 2023년 1월 1일부터 2023년 12월 31일까지입니다. 자세한 내용은 서울주거포털(https://housing.seoul.go.kr)에서 확인하실 수 있습니다.\",\n",
              " 'source_documents': [Document(metadata={'source': '23.txt'}, page_content='이 정책은 주거마련에 대한 부담을 완화하여 혼인수 감소와 출산기피 현상을 해결하고, 더 나은 주거환경을 제공하기 위해 서울시에서 운영하는 정책입니다. 대상 가구는 총 8,000가구로 제한되며, 지원 기간은 2023년 1월 1일부터 2023년 12월 31일까지입니다.\\n\\n이 정책에 참여하기 위해서는 다음의 신청자격을 충족해야 합니다. 먼저, 서울시민이거나 대출 후 1개월 이내에 서울로 전입 예정이어야 합니다. 또한 혼인신고일 기준으로 7년 이내의 신혼부부이거나 서울시 추천서 신청일로부터 6개월 이내에 결혼식 예정인 예비신혼부부여야 합니다. 부부의 합산 연소득은 9천 7백만원 이하여야 하며, 본인 및 배우자는 무주택자여야 합니다. 또한, 특정 주택 조건을 충족하는 주택의 임대차계약을 체결한 자에게 대출이 지원됩니다.\\n\\n이 정책은 서울주거포털(https://housing.seoul.go.kr)을 통해 온라인으로 신청할 수 있습니다. 필요한 제출서류로는 주민등록등본, 가족관계증명서, 혼인관계증명서, 그리고 임대차계약서가 있습니다.\\n\\n이 정책은 서울시청 주택정책과에서 운영되며, 자세한 사항은 해당 사이트(https://housing.seoul.go.kr)에서 확인하실 수 있습니다.'),\n",
              "  Document(metadata={'source': '23.txt'}, page_content='정책제목: 신혼부부 임차보증금 지원\\n정부에서는 주거 관련 정책을 통해 부담을 완화하여 더 나은 주거환경을 제공하고자 합니다. 현재 주거마련에 대한 부담으로 인해 혼인수가 감소하고 출산기피 현상이 발생하고 있습니다. 따라서 주거비 부담을 완화하여 이러한 문제를 해결하고, 좋은 주거환경을 제공하고자 합니다.\\n\\n이 정책은 서울시청 주택정책과에서 주관하며, 주거 마련에 대한 부담을 완화하기 위한 내용을 포함하고 있습니다. 지원 대상은 관내 임차보증금 7억 이내의 주택 또는 주거용 오피스텔에 대해 해당하는 서울시민이나 서울로 전입 예정인 자입니다. 대출한도는 임차보증금의 90% 이내 또는 2억원 중 작은 금액이며, 대출금의 최대 연 3.6% 이차보전 및 최장 10년까지 지원됩니다.\\n\\n주택조건과 대출형식은 한국주택금융공사 보증 및 협약은행(국민, 하나, 신한) 대출, 그리고 서울시 이차보전이 적용됩니다. 이 정책은 2023년 1월 1일부터 2023년 12월 31일까지 운영되며, 신청자격은 1세부터 100세까지의 연령을 가진 사람들이 해당합니다.\\n\\n대출을 받기 위한 추가 요건으로는 혼인신고일 기준으로 7년 이내의 신혼부부이거나 서울시 추천서 신청일로부터 6개월 이내에 결혼식 예정인 예비신혼부부여야 합니다. 또한 부부합산 연소득이 9천 7백만원 이하이고 본인 및 배우자가 무주택자여야 합니다. 대출을 받을 주택은 특정 조건을 충족하는 주택의 임대차계약을 체결한 사람들을 대상으로 합니다.\\n\\n이 정책은 서울주거포털(https://housing.seoul.go.kr)에서 온라인으로 신청할 수 있습니다. 필요한 서류로는 주민등록등본, 가족관계증명서, 혼인관계증명서, 그리고 임대차계약서가 제출되어야 합니다.\\n\\n이 정책은 주거마련에 대한 부담을 완화하여 혼인수 감소와 출산기피 현상을 해결하고, 더 나은 주거환경을 제공하기 위해 서울시에서 운영하는 정책입니다. 대상 가구는 총 8,000가구로 제한되며, 지원 기간은 2023년 1월 1일부터 2023년 12월 31일까지입니다.')]}"
            ]
          },
          "metadata": {},
          "execution_count": 29
        }
      ],
      "source": [
        "# print(chatbot_response)\n",
        "chatbot_response"
      ]
    },
    {
      "cell_type": "markdown",
      "metadata": {
        "id": "Xki6xPEfWyzg"
      },
      "source": [
        "출처가 23.txt로 동일하지만 두 개의 텍스트는 서로 다릅니다. 원본 파일 23.txt가 두 개의 텍스트로 분할되었기 때문입니다. 또한 두 개의 텍스트에서 **'이 정책은 주거마련에 대한 부담을 완화하여 혼인수 감소와 출산기피 현상을 해결하고, 더 나은 주거환경을 제공하기 위해 서울시에서 운영하는 정책입니다. 대상 가구는 총 8,000가구로 제한되며, 지원 기간은 2023년 1월 1일부터 2023년 12월 31일까지입니다.'** 라는 텍스트가 공통적으로 들어가있음을 확인할 수 있습니다. 이는 RecursiveCharacterTextSplitter() 선언 시에 chunk_overlap을 사용하였기 때문에 텍스트를 분할할 때 겹치지 않도록 분할하는 것이 아니라 일부 겹칠 수 있도록 허용하였기 때문입니다."
      ]
    },
    {
      "cell_type": "markdown",
      "metadata": {
        "id": "MepMBMf1Xx-m"
      },
      "source": [
        "### **Query → (Response → Query) → Response**\n",
        "\n",
        "이번에는 실제 챗봇과의 답변을 가정하고 **사용자의 질문으로부터 챗봇의 답변이 오면 해당 챗봇의 답변으로부터 이어서 사용자가 질문하는 시나리오**를 진행해보겠습니다. \"전세 자금이 부족한 사람을 위한 정책 이름이 뭐야?\"라는 임의의 질문을 입력합니다."
      ]
    },
    {
      "cell_type": "code",
      "execution_count": 30,
      "metadata": {
        "colab": {
          "base_uri": "https://localhost:8080/"
        },
        "id": "wg-e6fh6rNwz",
        "outputId": "3e361f3d-43bd-4661-8060-86f94adc4bd5"
      },
      "outputs": [
        {
          "output_type": "stream",
          "name": "stdout",
          "text": [
            "희망두배 청년통장\n",
            "\n",
            "문서 출처:\n",
            "40.txt\n",
            "40.txt\n"
          ]
        }
      ],
      "source": [
        "input_text = \"전세자금이 부족한 사람을 위한 정책 이름이 뭐야?\"\n",
        "llm_response = qa_chain(input_text)\n",
        "get_chatbot_response(llm_response)"
      ]
    },
    {
      "cell_type": "markdown",
      "metadata": {
        "id": "C4cCPULwX3ym"
      },
      "source": [
        "'희망두배 청년통장'이라는 정책이 있음을 알았습니다. 이어서 '희망두배 청년통장'의 구체적인 지원 내용을 문의합니다."
      ]
    },
    {
      "cell_type": "code",
      "execution_count": 31,
      "metadata": {
        "colab": {
          "base_uri": "https://localhost:8080/"
        },
        "id": "t5KETxphrN3d",
        "outputId": "369e2a5e-2bdd-4a26-e127-e9f1cf5d5a9b"
      },
      "outputs": [
        {
          "output_type": "stream",
          "name": "stdout",
          "text": [
            "희망두배 청년통장은 교육비, 주거비, 결혼자금, 창업운영자금 등을 위한 저축을 지원하는 정책입니다. 저축 목적에 따라 월 10만원 또는 15만원의 저축액을 선택할 수 있으며, 일정 기간 후에 본인이 적립한 금액의 100%를 지원받을 수 있습니다. 자세한 내용은 서울시청 안심돌봄복지과에서 확인하실 수 있습니다.\n",
            "\n",
            "문서 출처:\n",
            "40.txt\n",
            "36.txt\n"
          ]
        }
      ],
      "source": [
        "query = \"희망두배 청년통장은 어떤걸 지원하니?\"\n",
        "llm_response = qa_chain(query)\n",
        "get_chatbot_response(llm_response)"
      ]
    },
    {
      "cell_type": "markdown",
      "metadata": {
        "id": "g5iZQQ3rcRRb"
      },
      "source": [
        "이번에는 지원 조건을 문의해봅시다."
      ]
    },
    {
      "cell_type": "code",
      "execution_count": 32,
      "metadata": {
        "colab": {
          "base_uri": "https://localhost:8080/"
        },
        "id": "cuFf8D-rrN0I",
        "outputId": "a5535125-2d55-4792-90f4-8803a5f5b0c6"
      },
      "outputs": [
        {
          "output_type": "stream",
          "name": "stdout",
          "text": [
            "희망두배 청년통장의 지원 조건은 다음과 같습니다:\n",
            "- 18세에서 34세까지의 청년\n",
            "- 서울시 거주자\n",
            "- 공고일 현재 근로 중인 자격 요건을 모두 충족하는 경우\n",
            "\n",
            "문서 출처:\n",
            "40.txt\n",
            "36.txt\n"
          ]
        }
      ],
      "source": [
        "query = \"희망두배 청년통장의 지원 조건은?\"\n",
        "llm_response = qa_chain(query)\n",
        "get_chatbot_response(llm_response)"
      ]
    },
    {
      "cell_type": "markdown",
      "metadata": {
        "id": "ES18UScdYgZE"
      },
      "source": [
        "희망두배 청년통장의 마감 기한을 문의해봅시다."
      ]
    },
    {
      "cell_type": "code",
      "execution_count": 33,
      "metadata": {
        "colab": {
          "base_uri": "https://localhost:8080/"
        },
        "id": "692pHNkFrN5z",
        "outputId": "456a8585-23b9-47aa-9016-a00b6f4028c0"
      },
      "outputs": [
        {
          "output_type": "stream",
          "name": "stdout",
          "text": [
            "희망두배 청년통장의 마감 기한은 서울시복지재단, 서울시 및 25개 자치구 홈페이지에서 확인하실 수 있습니다. 해당 사이트에서 신청 기한을 확인하시는 것이 좋습니다.\n",
            "\n",
            "문서 출처:\n",
            "40.txt\n",
            "37.txt\n"
          ]
        }
      ],
      "source": [
        "query = \"희망두배 청년통장의 마감 기한은?\"\n",
        "llm_response = qa_chain(query)\n",
        "get_chatbot_response(llm_response)"
      ]
    },
    {
      "cell_type": "markdown",
      "metadata": {
        "id": "13-80vg3Yned"
      },
      "source": [
        "원본 문서에서 마감 기한이 구체적으로 나와있지 않아 마감 기한을 알 수 없다고 답변합니다. 해당 챗봇은 주어진 57개의 문서를 기반으로 답변하기 때문입니다. 이렇게 다수의 문서로부터 질의 응답을 할 수 있는 챗봇을 구현해보았습니다. 이렇게 구현한 챗봇을 앞서 실습과 같이 streamlit으로 UI를 구현하거나, 카카오톡이나 텔레그램 등을 연동하여 나만의 커스텀 챗봇을 구현할 수 있습니다."
      ]
    },
    {
      "cell_type": "markdown",
      "source": [
        "## **gradio UI Interface**\n",
        "\n",
        "- ML 데모를 만드는 가장 쉬운 방법\n",
        "- AI 연구자들은 모델을 만들고 논문을 쓰는 데는 익숙했지만, 이 모델이 실제로 어떻게 작동하는지 보여주는 '데모'를 만드는 데는 어려움을 겪었음\n",
        "- 2020년, Abubakar Abid를 비롯한 연구팀이 이러한 문제를 해결하기 위해 Gradio를 개발\n",
        "- 2021년, Hugging Face는 Gradio를 인수\n",
        "- HF Spaces(모델 데모를 호스팅하는 플랫폼)의 표준 UI 빌더\n",
        "- **주요 기능**\n",
        "    - **(극도의 단순함)** : **gr.Interface(...)** 몇 줄이면 UI가 완성\n",
        "    - **(다양한 컴포넌트)** : 텍스트 박스, 이미지 업로드, 슬라이더, 드롭다운, 오디오 녹음, 비디오 등 AI 모델에 필요한 거의 모든 입출력 컴포넌트를 미리 제공\n",
        "    - **(자동 공유 링크)** :  **.launch(share=True) 옵션** 하나만 추가하면, 방화벽이나 복잡한 설정 없이도 72시간 동안 유효한 공개 URL을 생성\n",
        "    - **(유연성 및 확장성)** : **gr.Blocks**라는 기능을 통해 챗봇 UI, 탭(Tab) 구분, 복잡한 레이아웃 등 고도로 커스터마이징된 웹 앱도 구축할 수 있음\n",
        "    - **(임베딩)** : Jupyter Notebook, Google Colab, 웹사이트 등 어디에나 쉽게 데모 창을 삽입할 수 있음\n"
      ],
      "metadata": {
        "id": "2-D_4a_gWn3H"
      }
    },
    {
      "cell_type": "code",
      "execution_count": null,
      "metadata": {
        "colab": {
          "base_uri": "https://localhost:8080/"
        },
        "id": "t-jz6zAI5PlW",
        "outputId": "5b404860-cb90-4ae3-c944-77998c78409c",
        "collapsed": true
      },
      "outputs": [
        {
          "output_type": "stream",
          "name": "stdout",
          "text": [
            "Requirement already satisfied: gradio in /usr/local/lib/python3.12/dist-packages (5.49.1)\n",
            "Requirement already satisfied: aiofiles<25.0,>=22.0 in /usr/local/lib/python3.12/dist-packages (from gradio) (24.1.0)\n",
            "Requirement already satisfied: anyio<5.0,>=3.0 in /usr/local/lib/python3.12/dist-packages (from gradio) (4.11.0)\n",
            "Requirement already satisfied: brotli>=1.1.0 in /usr/local/lib/python3.12/dist-packages (from gradio) (1.1.0)\n",
            "Requirement already satisfied: fastapi<1.0,>=0.115.2 in /usr/local/lib/python3.12/dist-packages (from gradio) (0.119.1)\n",
            "Requirement already satisfied: ffmpy in /usr/local/lib/python3.12/dist-packages (from gradio) (0.6.3)\n",
            "Requirement already satisfied: gradio-client==1.13.3 in /usr/local/lib/python3.12/dist-packages (from gradio) (1.13.3)\n",
            "Requirement already satisfied: groovy~=0.1 in /usr/local/lib/python3.12/dist-packages (from gradio) (0.1.2)\n",
            "Requirement already satisfied: httpx<1.0,>=0.24.1 in /usr/local/lib/python3.12/dist-packages (from gradio) (0.28.1)\n",
            "Requirement already satisfied: huggingface-hub<2.0,>=0.33.5 in /usr/local/lib/python3.12/dist-packages (from gradio) (0.35.3)\n",
            "Requirement already satisfied: jinja2<4.0 in /usr/local/lib/python3.12/dist-packages (from gradio) (3.1.6)\n",
            "Requirement already satisfied: markupsafe<4.0,>=2.0 in /usr/local/lib/python3.12/dist-packages (from gradio) (3.0.3)\n",
            "Requirement already satisfied: numpy<3.0,>=1.0 in /usr/local/lib/python3.12/dist-packages (from gradio) (2.0.2)\n",
            "Requirement already satisfied: orjson~=3.0 in /usr/local/lib/python3.12/dist-packages (from gradio) (3.11.3)\n",
            "Requirement already satisfied: packaging in /usr/local/lib/python3.12/dist-packages (from gradio) (25.0)\n",
            "Requirement already satisfied: pandas<3.0,>=1.0 in /usr/local/lib/python3.12/dist-packages (from gradio) (2.2.2)\n",
            "Requirement already satisfied: pillow<12.0,>=8.0 in /usr/local/lib/python3.12/dist-packages (from gradio) (11.3.0)\n",
            "Requirement already satisfied: pydantic<2.12,>=2.0 in /usr/local/lib/python3.12/dist-packages (from gradio) (2.11.10)\n",
            "Requirement already satisfied: pydub in /usr/local/lib/python3.12/dist-packages (from gradio) (0.25.1)\n",
            "Requirement already satisfied: python-multipart>=0.0.18 in /usr/local/lib/python3.12/dist-packages (from gradio) (0.0.20)\n",
            "Requirement already satisfied: pyyaml<7.0,>=5.0 in /usr/local/lib/python3.12/dist-packages (from gradio) (6.0.3)\n",
            "Requirement already satisfied: ruff>=0.9.3 in /usr/local/lib/python3.12/dist-packages (from gradio) (0.14.1)\n",
            "Requirement already satisfied: safehttpx<0.2.0,>=0.1.6 in /usr/local/lib/python3.12/dist-packages (from gradio) (0.1.6)\n",
            "Requirement already satisfied: semantic-version~=2.0 in /usr/local/lib/python3.12/dist-packages (from gradio) (2.10.0)\n",
            "Requirement already satisfied: starlette<1.0,>=0.40.0 in /usr/local/lib/python3.12/dist-packages (from gradio) (0.48.0)\n",
            "Requirement already satisfied: tomlkit<0.14.0,>=0.12.0 in /usr/local/lib/python3.12/dist-packages (from gradio) (0.13.3)\n",
            "Requirement already satisfied: typer<1.0,>=0.12 in /usr/local/lib/python3.12/dist-packages (from gradio) (0.20.0)\n",
            "Requirement already satisfied: typing-extensions~=4.0 in /usr/local/lib/python3.12/dist-packages (from gradio) (4.15.0)\n",
            "Requirement already satisfied: uvicorn>=0.14.0 in /usr/local/lib/python3.12/dist-packages (from gradio) (0.38.0)\n",
            "Requirement already satisfied: fsspec in /usr/local/lib/python3.12/dist-packages (from gradio-client==1.13.3->gradio) (2025.3.0)\n",
            "Requirement already satisfied: websockets<16.0,>=13.0 in /usr/local/lib/python3.12/dist-packages (from gradio-client==1.13.3->gradio) (15.0.1)\n",
            "Requirement already satisfied: idna>=2.8 in /usr/local/lib/python3.12/dist-packages (from anyio<5.0,>=3.0->gradio) (3.11)\n",
            "Requirement already satisfied: sniffio>=1.1 in /usr/local/lib/python3.12/dist-packages (from anyio<5.0,>=3.0->gradio) (1.3.1)\n",
            "Requirement already satisfied: certifi in /usr/local/lib/python3.12/dist-packages (from httpx<1.0,>=0.24.1->gradio) (2025.10.5)\n",
            "Requirement already satisfied: httpcore==1.* in /usr/local/lib/python3.12/dist-packages (from httpx<1.0,>=0.24.1->gradio) (1.0.9)\n",
            "Requirement already satisfied: h11>=0.16 in /usr/local/lib/python3.12/dist-packages (from httpcore==1.*->httpx<1.0,>=0.24.1->gradio) (0.16.0)\n",
            "Requirement already satisfied: filelock in /usr/local/lib/python3.12/dist-packages (from huggingface-hub<2.0,>=0.33.5->gradio) (3.20.0)\n",
            "Requirement already satisfied: requests in /usr/local/lib/python3.12/dist-packages (from huggingface-hub<2.0,>=0.33.5->gradio) (2.32.5)\n",
            "Requirement already satisfied: tqdm>=4.42.1 in /usr/local/lib/python3.12/dist-packages (from huggingface-hub<2.0,>=0.33.5->gradio) (4.67.1)\n",
            "Requirement already satisfied: hf-xet<2.0.0,>=1.1.3 in /usr/local/lib/python3.12/dist-packages (from huggingface-hub<2.0,>=0.33.5->gradio) (1.1.10)\n",
            "Requirement already satisfied: python-dateutil>=2.8.2 in /usr/local/lib/python3.12/dist-packages (from pandas<3.0,>=1.0->gradio) (2.9.0.post0)\n",
            "Requirement already satisfied: pytz>=2020.1 in /usr/local/lib/python3.12/dist-packages (from pandas<3.0,>=1.0->gradio) (2025.2)\n",
            "Requirement already satisfied: tzdata>=2022.7 in /usr/local/lib/python3.12/dist-packages (from pandas<3.0,>=1.0->gradio) (2025.2)\n",
            "Requirement already satisfied: annotated-types>=0.6.0 in /usr/local/lib/python3.12/dist-packages (from pydantic<2.12,>=2.0->gradio) (0.7.0)\n",
            "Requirement already satisfied: pydantic-core==2.33.2 in /usr/local/lib/python3.12/dist-packages (from pydantic<2.12,>=2.0->gradio) (2.33.2)\n",
            "Requirement already satisfied: typing-inspection>=0.4.0 in /usr/local/lib/python3.12/dist-packages (from pydantic<2.12,>=2.0->gradio) (0.4.2)\n",
            "Requirement already satisfied: click>=8.0.0 in /usr/local/lib/python3.12/dist-packages (from typer<1.0,>=0.12->gradio) (8.3.0)\n",
            "Requirement already satisfied: shellingham>=1.3.0 in /usr/local/lib/python3.12/dist-packages (from typer<1.0,>=0.12->gradio) (1.5.4)\n",
            "Requirement already satisfied: rich>=10.11.0 in /usr/local/lib/python3.12/dist-packages (from typer<1.0,>=0.12->gradio) (13.9.4)\n",
            "Requirement already satisfied: six>=1.5 in /usr/local/lib/python3.12/dist-packages (from python-dateutil>=2.8.2->pandas<3.0,>=1.0->gradio) (1.17.0)\n",
            "Requirement already satisfied: markdown-it-py>=2.2.0 in /usr/local/lib/python3.12/dist-packages (from rich>=10.11.0->typer<1.0,>=0.12->gradio) (4.0.0)\n",
            "Requirement already satisfied: pygments<3.0.0,>=2.13.0 in /usr/local/lib/python3.12/dist-packages (from rich>=10.11.0->typer<1.0,>=0.12->gradio) (2.19.2)\n",
            "Requirement already satisfied: charset_normalizer<4,>=2 in /usr/local/lib/python3.12/dist-packages (from requests->huggingface-hub<2.0,>=0.33.5->gradio) (3.4.4)\n",
            "Requirement already satisfied: urllib3<3,>=1.21.1 in /usr/local/lib/python3.12/dist-packages (from requests->huggingface-hub<2.0,>=0.33.5->gradio) (2.3.0)\n",
            "Requirement already satisfied: mdurl~=0.1 in /usr/local/lib/python3.12/dist-packages (from markdown-it-py>=2.2.0->rich>=10.11.0->typer<1.0,>=0.12->gradio) (0.1.2)\n"
          ]
        }
      ],
      "source": [
        "!pip install gradio"
      ]
    },
    {
      "cell_type": "markdown",
      "metadata": {
        "id": "UozRGHap6b3A"
      },
      "source": [
        "To create a public link, set `share=True` in `launch()`.  \n",
        "Running on https://localhost:7860/  \n",
        "\n",
        "라는 식의 문구가 나오면 위의 localhost로 시작하는 주소를 클릭하세요."
      ]
    },
    {
      "cell_type": "code",
      "execution_count": null,
      "metadata": {
        "colab": {
          "base_uri": "https://localhost:8080/",
          "height": 722
        },
        "id": "ZWXwk0Ms56_t",
        "outputId": "269b7ec7-4578-4305-e10b-2317d5a72352"
      },
      "outputs": [
        {
          "output_type": "stream",
          "name": "stderr",
          "text": [
            "/tmp/ipython-input-1083721868.py:5: UserWarning: You have not specified a value for the `type` parameter. Defaulting to the 'tuples' format for chatbot messages, but this is deprecated and will be removed in a future version of Gradio. Please set type='messages' instead, which uses openai-style dictionaries with 'role' and 'content' keys.\n",
            "  chatbot = gr.Chatbot(label=\"청년정책챗봇\") # 청년정책챗봇 레이블을 좌측 상단에 구성\n"
          ]
        },
        {
          "output_type": "stream",
          "name": "stdout",
          "text": [
            "It looks like you are running Gradio on a hosted Jupyter notebook, which requires `share=True`. Automatically setting `share=True` (you can turn this off by setting `share=False` in `launch()` explicitly).\n",
            "\n",
            "Colab notebook detected. This cell will run indefinitely so that you can see errors and logs. To turn off, set debug=False in launch().\n",
            "* Running on public URL: https://2666a9609dc55603d9.gradio.live\n",
            "\n",
            "This share link expires in 1 week. For free permanent hosting and GPU upgrades, run `gradio deploy` from the terminal in the working directory to deploy to Hugging Face Spaces (https://huggingface.co/spaces)\n"
          ]
        },
        {
          "output_type": "display_data",
          "data": {
            "text/plain": [
              "<IPython.core.display.HTML object>"
            ],
            "text/html": [
              "<div><iframe src=\"https://2666a9609dc55603d9.gradio.live\" width=\"100%\" height=\"500\" allow=\"autoplay; camera; microphone; clipboard-read; clipboard-write;\" frameborder=\"0\" allowfullscreen></iframe></div>"
            ]
          },
          "metadata": {}
        },
        {
          "output_type": "stream",
          "name": "stdout",
          "text": [
            "Keyboard interruption in main thread... closing server.\n",
            "Killing tunnel 127.0.0.1:7860 <> https://2666a9609dc55603d9.gradio.live\n"
          ]
        },
        {
          "output_type": "execute_result",
          "data": {
            "text/plain": []
          },
          "metadata": {},
          "execution_count": 58
        }
      ],
      "source": [
        "import gradio as gr\n",
        "\n",
        "# 인터페이스를 생성.\n",
        "with gr.Blocks() as demo:\n",
        "    chatbot = gr.Chatbot(label=\"청년정책챗봇\") # 청년정책챗봇 레이블을 좌측 상단에 구성\n",
        "    msg = gr.Textbox(label=\"질문해주세요!\")  # 하단의 채팅창의 레이블\n",
        "    clear = gr.Button(\"대화 초기화\")  # 대화 초기화 버튼\n",
        "\n",
        "    # 챗봇의 답변을 처리하는 함수\n",
        "    def respond(message, chat_history):\n",
        "      result = qa_chain(message)\n",
        "      bot_message = result['result']\n",
        "      bot_message += ' # sources :'\n",
        "\n",
        "      # 답변의 출처를 표기\n",
        "      for i, doc in enumerate(result['source_documents']):\n",
        "          bot_message += '[' + str(i+1) + '] ' + doc.metadata['source'] + ' '\n",
        "\n",
        "      # 채팅 기록에 사용자의 메시지와 봇의 응답을 추가.\n",
        "      chat_history.append((message, bot_message))\n",
        "      return \"\", chat_history\n",
        "\n",
        "    # 사용자의 입력을 제출(submit)하면 respond 함수가 호출.\n",
        "    msg.submit(respond, [msg, chatbot], [msg, chatbot])\n",
        "\n",
        "    # '초기화' 버튼을 클릭하면 채팅 기록을 초기화.\n",
        "    clear.click(lambda: None, None, chatbot, queue=False)\n",
        "\n",
        "# 인터페이스 실행.\n",
        "demo.launch(debug=True)"
      ]
    }
  ],
  "metadata": {
    "colab": {
      "provenance": [],
      "toc_visible": true,
      "gpuType": "T4",
      "include_colab_link": true
    },
    "kernelspec": {
      "display_name": "Python 3",
      "name": "python3"
    },
    "language_info": {
      "name": "python"
    },
    "accelerator": "GPU"
  },
  "nbformat": 4,
  "nbformat_minor": 0
}